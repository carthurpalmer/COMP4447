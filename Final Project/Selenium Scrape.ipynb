{
 "cells": [
  {
   "cell_type": "code",
   "execution_count": 7,
   "metadata": {},
   "outputs": [],
   "source": [
    "# project\n",
    "\n",
    "from selenium import webdriver\n",
    "from selenium.webdriver.support.ui import Select\n",
    "from selenium.webdriver.common.by import By\n",
    "from selenium.webdriver.common.keys import Keys\n",
    "from selenium.webdriver.support.ui import WebDriverWait\n",
    "from selenium.webdriver.support import expected_conditions as EC\n",
    "import time\n",
    "import pandas as pd"
   ]
  },
  {
   "cell_type": "code",
   "execution_count": 8,
   "metadata": {},
   "outputs": [],
   "source": [
    "# project\n",
    "\n",
    "import configparser\n",
    "\n",
    "config = configparser.ConfigParser()\n",
    "config.read('config.ini')\n",
    "\n",
    "username = config['Credentials']['username']\n",
    "password = config['Credentials']['password']"
   ]
  },
  {
   "cell_type": "code",
   "execution_count": null,
   "metadata": {},
   "outputs": [],
   "source": [
    "# project\n",
    "\n",
    "zillow_df = pd.read_csv('zillowdf.csv')\n",
    "zillow_df['city'] = 'Kitty Hawk'\n",
    "zillow_df['state'] = 'NC'\n",
    "zillow_df['country'] = 'USA'"
   ]
  },
  {
   "cell_type": "code",
   "execution_count": 11,
   "metadata": {},
   "outputs": [],
   "source": [
    "# project\n",
    "\n",
    "for index, row in zillow_df.iterrows():\n",
    "    zillow_df['updated_city'] = str(row['city']).replace(' ', '+')"
   ]
  },
  {
   "cell_type": "code",
   "execution_count": 12,
   "metadata": {},
   "outputs": [],
   "source": [
    "# project\n",
    "\n",
    "for index, row in zillow_df.iterrows():\n",
    "    zillow_df.at[index, 'updated_street'] = str(row['streetAddress']).replace(' ', '+')"
   ]
  },
  {
   "cell_type": "code",
   "execution_count": 13,
   "metadata": {},
   "outputs": [],
   "source": [
    "# project\n",
    "\n",
    "zillow_df['base_url'] = 'https://app.airdna.co/data/rentalizer?address='\n",
    "for index, row in zillow_df.iterrows():\n",
    "    zillow_df.at[index, 'query'] = f\"{row['updated_street']}%2C+{row['updated_city']}%2C+{row['state']}%2C+{row['country']}\""
   ]
  },
  {
   "cell_type": "code",
   "execution_count": 14,
   "metadata": {},
   "outputs": [],
   "source": [
    "# project\n",
    "\n",
    "for index, row in zillow_df.iterrows():\n",
    "    zillow_df.at[index, 'query_url'] = f\"{row['base_url']}{row['query']}\""
   ]
  },
  {
   "cell_type": "code",
   "execution_count": null,
   "metadata": {},
   "outputs": [],
   "source": [
    "# # build\n",
    "\n",
    "# street = '8035 Holland Ct'\n",
    "# city = 'Arvada'\n",
    "# state_param = 'CO'\n",
    "# country_param = 'USA'"
   ]
  },
  {
   "cell_type": "code",
   "execution_count": null,
   "metadata": {},
   "outputs": [
    {
     "name": "stdout",
     "output_type": "stream",
     "text": [
      "https://app.airdna.co/data/rentalizer?address=8035+Holland+Ct%2C+Arvada%2C+CO%2C+USA\n"
     ]
    }
   ],
   "source": [
    "# # build\n",
    "\n",
    "# base_url = 'https://app.airdna.co/data/rentalizer?address='\n",
    "\n",
    "# street_param = street.replace(' ', '+')\n",
    "# city_param = city.replace(' ', '+')\n",
    "\n",
    "# query = f'{street_param}%2C+{city_param}%2C+{state_param}%2C+{country_param}'\n",
    "\n",
    "# query_url = f'{base_url}{query}'\n",
    "\n",
    "# print(query_url)\n"
   ]
  },
  {
   "cell_type": "code",
   "execution_count": 22,
   "metadata": {},
   "outputs": [],
   "source": [
    "import easyocr\n",
    "from PIL import Image"
   ]
  },
  {
   "cell_type": "code",
   "execution_count": 26,
   "metadata": {},
   "outputs": [],
   "source": [
    "def login_and_screenshot(username, password, query_url):\n",
    "    driver = webdriver.Chrome()\n",
    "\n",
    "    driver.get('https://app.airdna.co/data/us?lat=40.435090&lng=-96.000000&zoom=4.25')\n",
    "\n",
    "    WebDriverWait(driver, 10).until(\n",
    "        EC.presence_of_element_located((By.LINK_TEXT, 'Log in')))\n",
    "\n",
    "    login_button = driver.find_element(By.LINK_TEXT, 'Log in')\n",
    "    login_button.click()\n",
    "\n",
    "    WebDriverWait(driver, 10).until(\n",
    "        EC.presence_of_element_located((By.ID, 'login-email')))\n",
    "\n",
    "    input_email = driver.find_element(By.ID, 'login-email')\n",
    "    input_email.click()\n",
    "    input_email.send_keys(username)\n",
    "\n",
    "    input_password = driver.find_element(By.ID, 'login-password')\n",
    "    input_password.send_keys(password)\n",
    "\n",
    "    input_password.submit()\n",
    "\n",
    "    time.sleep(5)\n",
    "\n",
    "    driver.get(query_url)\n",
    "\n",
    "    time.sleep(5)\n",
    "\n",
    "    driver.save_screenshot('screenshot.png')\n",
    "\n",
    "    driver.quit()"
   ]
  },
  {
   "cell_type": "code",
   "execution_count": 28,
   "metadata": {},
   "outputs": [],
   "source": [
    "def crop_and_ocr(crop_coordinates):\n",
    "    screenshot = Image.open('screenshot.png')\n",
    "\n",
    "    left, top, width, height = crop_coordinates\n",
    "\n",
    "    right = left + width\n",
    "    bottom = top + height\n",
    "    cropped_image = screenshot.crop((left, top, right, bottom))\n",
    "    cropped_image.save('cropped_screenshot.png')\n",
    "\n",
    "    reader = easyocr.Reader(['en'])\n",
    "    result = reader.readtext('cropped_screenshot.png')\n",
    "\n",
    "    extracted_text = [detection[1] for detection in result]\n",
    "    return ' '.join(extracted_text)\n",
    "\n",
    "crop_coordinates = (80, 623, 175, 68)"
   ]
  },
  {
   "cell_type": "code",
   "execution_count": 29,
   "metadata": {},
   "outputs": [
    {
     "data": {
      "text/html": [
       "<pre style=\"white-space:pre;overflow-x:auto;line-height:normal;font-family:Menlo,'DejaVu Sans Mono',consolas,'Courier New',monospace\"><span style=\"color: #808000; text-decoration-color: #808000\">WARNING: Neither CUDA nor MPS are available - defaulting to CPU. Note: This module is much faster with a GPU.\n",
       "</span></pre>\n"
      ],
      "text/plain": [
       "\u001b[33mWARNING: Neither CUDA nor MPS are available - defaulting to CPU. Note: This module is much faster with a GPU.\u001b[0m\u001b[33m\n",
       "\u001b[0m"
      ]
     },
     "metadata": {},
     "output_type": "display_data"
    },
    {
     "data": {
      "text/html": [
       "<pre style=\"white-space:pre;overflow-x:auto;line-height:normal;font-family:Menlo,'DejaVu Sans Mono',consolas,'Courier New',monospace\"><span style=\"color: #808000; text-decoration-color: #808000\">WARNING: Neither CUDA nor MPS are available - defaulting to CPU. Note: This module is much faster with a GPU.\n",
       "</span></pre>\n"
      ],
      "text/plain": [
       "\u001b[33mWARNING: Neither CUDA nor MPS are available - defaulting to CPU. Note: This module is much faster with a GPU.\u001b[0m\u001b[33m\n",
       "\u001b[0m"
      ]
     },
     "metadata": {},
     "output_type": "display_data"
    },
    {
     "data": {
      "text/html": [
       "<pre style=\"white-space:pre;overflow-x:auto;line-height:normal;font-family:Menlo,'DejaVu Sans Mono',consolas,'Courier New',monospace\"><span style=\"color: #808000; text-decoration-color: #808000\">WARNING: Neither CUDA nor MPS are available - defaulting to CPU. Note: This module is much faster with a GPU.\n",
       "</span></pre>\n"
      ],
      "text/plain": [
       "\u001b[33mWARNING: Neither CUDA nor MPS are available - defaulting to CPU. Note: This module is much faster with a GPU.\u001b[0m\u001b[33m\n",
       "\u001b[0m"
      ]
     },
     "metadata": {},
     "output_type": "display_data"
    },
    {
     "data": {
      "text/html": [
       "<pre style=\"white-space:pre;overflow-x:auto;line-height:normal;font-family:Menlo,'DejaVu Sans Mono',consolas,'Courier New',monospace\"><span style=\"color: #808000; text-decoration-color: #808000\">WARNING: Neither CUDA nor MPS are available - defaulting to CPU. Note: This module is much faster with a GPU.\n",
       "</span></pre>\n"
      ],
      "text/plain": [
       "\u001b[33mWARNING: Neither CUDA nor MPS are available - defaulting to CPU. Note: This module is much faster with a GPU.\u001b[0m\u001b[33m\n",
       "\u001b[0m"
      ]
     },
     "metadata": {},
     "output_type": "display_data"
    },
    {
     "data": {
      "text/html": [
       "<pre style=\"white-space:pre;overflow-x:auto;line-height:normal;font-family:Menlo,'DejaVu Sans Mono',consolas,'Courier New',monospace\"><span style=\"color: #808000; text-decoration-color: #808000\">WARNING: Neither CUDA nor MPS are available - defaulting to CPU. Note: This module is much faster with a GPU.\n",
       "</span></pre>\n"
      ],
      "text/plain": [
       "\u001b[33mWARNING: Neither CUDA nor MPS are available - defaulting to CPU. Note: This module is much faster with a GPU.\u001b[0m\u001b[33m\n",
       "\u001b[0m"
      ]
     },
     "metadata": {},
     "output_type": "display_data"
    },
    {
     "data": {
      "text/html": [
       "<pre style=\"white-space:pre;overflow-x:auto;line-height:normal;font-family:Menlo,'DejaVu Sans Mono',consolas,'Courier New',monospace\"><span style=\"color: #808000; text-decoration-color: #808000\">WARNING: Neither CUDA nor MPS are available - defaulting to CPU. Note: This module is much faster with a GPU.\n",
       "</span></pre>\n"
      ],
      "text/plain": [
       "\u001b[33mWARNING: Neither CUDA nor MPS are available - defaulting to CPU. Note: This module is much faster with a GPU.\u001b[0m\u001b[33m\n",
       "\u001b[0m"
      ]
     },
     "metadata": {},
     "output_type": "display_data"
    },
    {
     "data": {
      "text/html": [
       "<pre style=\"white-space:pre;overflow-x:auto;line-height:normal;font-family:Menlo,'DejaVu Sans Mono',consolas,'Courier New',monospace\"><span style=\"color: #808000; text-decoration-color: #808000\">WARNING: Neither CUDA nor MPS are available - defaulting to CPU. Note: This module is much faster with a GPU.\n",
       "</span></pre>\n"
      ],
      "text/plain": [
       "\u001b[33mWARNING: Neither CUDA nor MPS are available - defaulting to CPU. Note: This module is much faster with a GPU.\u001b[0m\u001b[33m\n",
       "\u001b[0m"
      ]
     },
     "metadata": {},
     "output_type": "display_data"
    },
    {
     "data": {
      "text/html": [
       "<pre style=\"white-space:pre;overflow-x:auto;line-height:normal;font-family:Menlo,'DejaVu Sans Mono',consolas,'Courier New',monospace\"><span style=\"color: #808000; text-decoration-color: #808000\">WARNING: Neither CUDA nor MPS are available - defaulting to CPU. Note: This module is much faster with a GPU.\n",
       "</span></pre>\n"
      ],
      "text/plain": [
       "\u001b[33mWARNING: Neither CUDA nor MPS are available - defaulting to CPU. Note: This module is much faster with a GPU.\u001b[0m\u001b[33m\n",
       "\u001b[0m"
      ]
     },
     "metadata": {},
     "output_type": "display_data"
    },
    {
     "data": {
      "text/html": [
       "<pre style=\"white-space:pre;overflow-x:auto;line-height:normal;font-family:Menlo,'DejaVu Sans Mono',consolas,'Courier New',monospace\"><span style=\"color: #808000; text-decoration-color: #808000\">WARNING: Neither CUDA nor MPS are available - defaulting to CPU. Note: This module is much faster with a GPU.\n",
       "</span></pre>\n"
      ],
      "text/plain": [
       "\u001b[33mWARNING: Neither CUDA nor MPS are available - defaulting to CPU. Note: This module is much faster with a GPU.\u001b[0m\u001b[33m\n",
       "\u001b[0m"
      ]
     },
     "metadata": {},
     "output_type": "display_data"
    },
    {
     "data": {
      "text/html": [
       "<pre style=\"white-space:pre;overflow-x:auto;line-height:normal;font-family:Menlo,'DejaVu Sans Mono',consolas,'Courier New',monospace\"><span style=\"color: #808000; text-decoration-color: #808000\">WARNING: Neither CUDA nor MPS are available - defaulting to CPU. Note: This module is much faster with a GPU.\n",
       "</span></pre>\n"
      ],
      "text/plain": [
       "\u001b[33mWARNING: Neither CUDA nor MPS are available - defaulting to CPU. Note: This module is much faster with a GPU.\u001b[0m\u001b[33m\n",
       "\u001b[0m"
      ]
     },
     "metadata": {},
     "output_type": "display_data"
    },
    {
     "data": {
      "text/html": [
       "<pre style=\"white-space:pre;overflow-x:auto;line-height:normal;font-family:Menlo,'DejaVu Sans Mono',consolas,'Courier New',monospace\"><span style=\"color: #808000; text-decoration-color: #808000\">WARNING: Neither CUDA nor MPS are available - defaulting to CPU. Note: This module is much faster with a GPU.\n",
       "</span></pre>\n"
      ],
      "text/plain": [
       "\u001b[33mWARNING: Neither CUDA nor MPS are available - defaulting to CPU. Note: This module is much faster with a GPU.\u001b[0m\u001b[33m\n",
       "\u001b[0m"
      ]
     },
     "metadata": {},
     "output_type": "display_data"
    },
    {
     "data": {
      "text/html": [
       "<pre style=\"white-space:pre;overflow-x:auto;line-height:normal;font-family:Menlo,'DejaVu Sans Mono',consolas,'Courier New',monospace\"><span style=\"color: #808000; text-decoration-color: #808000\">WARNING: Neither CUDA nor MPS are available - defaulting to CPU. Note: This module is much faster with a GPU.\n",
       "</span></pre>\n"
      ],
      "text/plain": [
       "\u001b[33mWARNING: Neither CUDA nor MPS are available - defaulting to CPU. Note: This module is much faster with a GPU.\u001b[0m\u001b[33m\n",
       "\u001b[0m"
      ]
     },
     "metadata": {},
     "output_type": "display_data"
    },
    {
     "data": {
      "text/html": [
       "<pre style=\"white-space:pre;overflow-x:auto;line-height:normal;font-family:Menlo,'DejaVu Sans Mono',consolas,'Courier New',monospace\"><span style=\"color: #808000; text-decoration-color: #808000\">WARNING: Neither CUDA nor MPS are available - defaulting to CPU. Note: This module is much faster with a GPU.\n",
       "</span></pre>\n"
      ],
      "text/plain": [
       "\u001b[33mWARNING: Neither CUDA nor MPS are available - defaulting to CPU. Note: This module is much faster with a GPU.\u001b[0m\u001b[33m\n",
       "\u001b[0m"
      ]
     },
     "metadata": {},
     "output_type": "display_data"
    },
    {
     "data": {
      "text/html": [
       "<pre style=\"white-space:pre;overflow-x:auto;line-height:normal;font-family:Menlo,'DejaVu Sans Mono',consolas,'Courier New',monospace\"><span style=\"color: #808000; text-decoration-color: #808000\">WARNING: Neither CUDA nor MPS are available - defaulting to CPU. Note: This module is much faster with a GPU.\n",
       "</span></pre>\n"
      ],
      "text/plain": [
       "\u001b[33mWARNING: Neither CUDA nor MPS are available - defaulting to CPU. Note: This module is much faster with a GPU.\u001b[0m\u001b[33m\n",
       "\u001b[0m"
      ]
     },
     "metadata": {},
     "output_type": "display_data"
    },
    {
     "data": {
      "text/html": [
       "<pre style=\"white-space:pre;overflow-x:auto;line-height:normal;font-family:Menlo,'DejaVu Sans Mono',consolas,'Courier New',monospace\"><span style=\"color: #808000; text-decoration-color: #808000\">WARNING: Neither CUDA nor MPS are available - defaulting to CPU. Note: This module is much faster with a GPU.\n",
       "</span></pre>\n"
      ],
      "text/plain": [
       "\u001b[33mWARNING: Neither CUDA nor MPS are available - defaulting to CPU. Note: This module is much faster with a GPU.\u001b[0m\u001b[33m\n",
       "\u001b[0m"
      ]
     },
     "metadata": {},
     "output_type": "display_data"
    },
    {
     "data": {
      "text/html": [
       "<pre style=\"white-space:pre;overflow-x:auto;line-height:normal;font-family:Menlo,'DejaVu Sans Mono',consolas,'Courier New',monospace\"><span style=\"color: #808000; text-decoration-color: #808000\">WARNING: Neither CUDA nor MPS are available - defaulting to CPU. Note: This module is much faster with a GPU.\n",
       "</span></pre>\n"
      ],
      "text/plain": [
       "\u001b[33mWARNING: Neither CUDA nor MPS are available - defaulting to CPU. Note: This module is much faster with a GPU.\u001b[0m\u001b[33m\n",
       "\u001b[0m"
      ]
     },
     "metadata": {},
     "output_type": "display_data"
    },
    {
     "data": {
      "text/html": [
       "<pre style=\"white-space:pre;overflow-x:auto;line-height:normal;font-family:Menlo,'DejaVu Sans Mono',consolas,'Courier New',monospace\"><span style=\"color: #808000; text-decoration-color: #808000\">WARNING: Neither CUDA nor MPS are available - defaulting to CPU. Note: This module is much faster with a GPU.\n",
       "</span></pre>\n"
      ],
      "text/plain": [
       "\u001b[33mWARNING: Neither CUDA nor MPS are available - defaulting to CPU. Note: This module is much faster with a GPU.\u001b[0m\u001b[33m\n",
       "\u001b[0m"
      ]
     },
     "metadata": {},
     "output_type": "display_data"
    },
    {
     "data": {
      "text/html": [
       "<pre style=\"white-space:pre;overflow-x:auto;line-height:normal;font-family:Menlo,'DejaVu Sans Mono',consolas,'Courier New',monospace\"><span style=\"color: #808000; text-decoration-color: #808000\">WARNING: Neither CUDA nor MPS are available - defaulting to CPU. Note: This module is much faster with a GPU.\n",
       "</span></pre>\n"
      ],
      "text/plain": [
       "\u001b[33mWARNING: Neither CUDA nor MPS are available - defaulting to CPU. Note: This module is much faster with a GPU.\u001b[0m\u001b[33m\n",
       "\u001b[0m"
      ]
     },
     "metadata": {},
     "output_type": "display_data"
    },
    {
     "data": {
      "text/html": [
       "<pre style=\"white-space:pre;overflow-x:auto;line-height:normal;font-family:Menlo,'DejaVu Sans Mono',consolas,'Courier New',monospace\"><span style=\"color: #808000; text-decoration-color: #808000\">WARNING: Neither CUDA nor MPS are available - defaulting to CPU. Note: This module is much faster with a GPU.\n",
       "</span></pre>\n"
      ],
      "text/plain": [
       "\u001b[33mWARNING: Neither CUDA nor MPS are available - defaulting to CPU. Note: This module is much faster with a GPU.\u001b[0m\u001b[33m\n",
       "\u001b[0m"
      ]
     },
     "metadata": {},
     "output_type": "display_data"
    },
    {
     "data": {
      "text/html": [
       "<pre style=\"white-space:pre;overflow-x:auto;line-height:normal;font-family:Menlo,'DejaVu Sans Mono',consolas,'Courier New',monospace\"><span style=\"color: #808000; text-decoration-color: #808000\">WARNING: Neither CUDA nor MPS are available - defaulting to CPU. Note: This module is much faster with a GPU.\n",
       "</span></pre>\n"
      ],
      "text/plain": [
       "\u001b[33mWARNING: Neither CUDA nor MPS are available - defaulting to CPU. Note: This module is much faster with a GPU.\u001b[0m\u001b[33m\n",
       "\u001b[0m"
      ]
     },
     "metadata": {},
     "output_type": "display_data"
    },
    {
     "data": {
      "text/html": [
       "<pre style=\"white-space:pre;overflow-x:auto;line-height:normal;font-family:Menlo,'DejaVu Sans Mono',consolas,'Courier New',monospace\"><span style=\"color: #808000; text-decoration-color: #808000\">WARNING: Neither CUDA nor MPS are available - defaulting to CPU. Note: This module is much faster with a GPU.\n",
       "</span></pre>\n"
      ],
      "text/plain": [
       "\u001b[33mWARNING: Neither CUDA nor MPS are available - defaulting to CPU. Note: This module is much faster with a GPU.\u001b[0m\u001b[33m\n",
       "\u001b[0m"
      ]
     },
     "metadata": {},
     "output_type": "display_data"
    },
    {
     "data": {
      "text/html": [
       "<pre style=\"white-space:pre;overflow-x:auto;line-height:normal;font-family:Menlo,'DejaVu Sans Mono',consolas,'Courier New',monospace\"><span style=\"color: #808000; text-decoration-color: #808000\">WARNING: Neither CUDA nor MPS are available - defaulting to CPU. Note: This module is much faster with a GPU.\n",
       "</span></pre>\n"
      ],
      "text/plain": [
       "\u001b[33mWARNING: Neither CUDA nor MPS are available - defaulting to CPU. Note: This module is much faster with a GPU.\u001b[0m\u001b[33m\n",
       "\u001b[0m"
      ]
     },
     "metadata": {},
     "output_type": "display_data"
    },
    {
     "data": {
      "text/html": [
       "<pre style=\"white-space:pre;overflow-x:auto;line-height:normal;font-family:Menlo,'DejaVu Sans Mono',consolas,'Courier New',monospace\"><span style=\"color: #808000; text-decoration-color: #808000\">WARNING: Neither CUDA nor MPS are available - defaulting to CPU. Note: This module is much faster with a GPU.\n",
       "</span></pre>\n"
      ],
      "text/plain": [
       "\u001b[33mWARNING: Neither CUDA nor MPS are available - defaulting to CPU. Note: This module is much faster with a GPU.\u001b[0m\u001b[33m\n",
       "\u001b[0m"
      ]
     },
     "metadata": {},
     "output_type": "display_data"
    },
    {
     "data": {
      "text/html": [
       "<pre style=\"white-space:pre;overflow-x:auto;line-height:normal;font-family:Menlo,'DejaVu Sans Mono',consolas,'Courier New',monospace\"><span style=\"color: #808000; text-decoration-color: #808000\">WARNING: Neither CUDA nor MPS are available - defaulting to CPU. Note: This module is much faster with a GPU.\n",
       "</span></pre>\n"
      ],
      "text/plain": [
       "\u001b[33mWARNING: Neither CUDA nor MPS are available - defaulting to CPU. Note: This module is much faster with a GPU.\u001b[0m\u001b[33m\n",
       "\u001b[0m"
      ]
     },
     "metadata": {},
     "output_type": "display_data"
    },
    {
     "data": {
      "text/html": [
       "<pre style=\"white-space:pre;overflow-x:auto;line-height:normal;font-family:Menlo,'DejaVu Sans Mono',consolas,'Courier New',monospace\"><span style=\"color: #808000; text-decoration-color: #808000\">WARNING: Neither CUDA nor MPS are available - defaulting to CPU. Note: This module is much faster with a GPU.\n",
       "</span></pre>\n"
      ],
      "text/plain": [
       "\u001b[33mWARNING: Neither CUDA nor MPS are available - defaulting to CPU. Note: This module is much faster with a GPU.\u001b[0m\u001b[33m\n",
       "\u001b[0m"
      ]
     },
     "metadata": {},
     "output_type": "display_data"
    },
    {
     "data": {
      "text/html": [
       "<pre style=\"white-space:pre;overflow-x:auto;line-height:normal;font-family:Menlo,'DejaVu Sans Mono',consolas,'Courier New',monospace\"><span style=\"color: #808000; text-decoration-color: #808000\">WARNING: Neither CUDA nor MPS are available - defaulting to CPU. Note: This module is much faster with a GPU.\n",
       "</span></pre>\n"
      ],
      "text/plain": [
       "\u001b[33mWARNING: Neither CUDA nor MPS are available - defaulting to CPU. Note: This module is much faster with a GPU.\u001b[0m\u001b[33m\n",
       "\u001b[0m"
      ]
     },
     "metadata": {},
     "output_type": "display_data"
    },
    {
     "data": {
      "text/html": [
       "<pre style=\"white-space:pre;overflow-x:auto;line-height:normal;font-family:Menlo,'DejaVu Sans Mono',consolas,'Courier New',monospace\"><span style=\"color: #808000; text-decoration-color: #808000\">WARNING: Neither CUDA nor MPS are available - defaulting to CPU. Note: This module is much faster with a GPU.\n",
       "</span></pre>\n"
      ],
      "text/plain": [
       "\u001b[33mWARNING: Neither CUDA nor MPS are available - defaulting to CPU. Note: This module is much faster with a GPU.\u001b[0m\u001b[33m\n",
       "\u001b[0m"
      ]
     },
     "metadata": {},
     "output_type": "display_data"
    },
    {
     "data": {
      "text/html": [
       "<pre style=\"white-space:pre;overflow-x:auto;line-height:normal;font-family:Menlo,'DejaVu Sans Mono',consolas,'Courier New',monospace\"><span style=\"color: #808000; text-decoration-color: #808000\">WARNING: Neither CUDA nor MPS are available - defaulting to CPU. Note: This module is much faster with a GPU.\n",
       "</span></pre>\n"
      ],
      "text/plain": [
       "\u001b[33mWARNING: Neither CUDA nor MPS are available - defaulting to CPU. Note: This module is much faster with a GPU.\u001b[0m\u001b[33m\n",
       "\u001b[0m"
      ]
     },
     "metadata": {},
     "output_type": "display_data"
    },
    {
     "data": {
      "text/html": [
       "<pre style=\"white-space:pre;overflow-x:auto;line-height:normal;font-family:Menlo,'DejaVu Sans Mono',consolas,'Courier New',monospace\"><span style=\"color: #808000; text-decoration-color: #808000\">WARNING: Neither CUDA nor MPS are available - defaulting to CPU. Note: This module is much faster with a GPU.\n",
       "</span></pre>\n"
      ],
      "text/plain": [
       "\u001b[33mWARNING: Neither CUDA nor MPS are available - defaulting to CPU. Note: This module is much faster with a GPU.\u001b[0m\u001b[33m\n",
       "\u001b[0m"
      ]
     },
     "metadata": {},
     "output_type": "display_data"
    },
    {
     "data": {
      "text/html": [
       "<pre style=\"white-space:pre;overflow-x:auto;line-height:normal;font-family:Menlo,'DejaVu Sans Mono',consolas,'Courier New',monospace\"><span style=\"color: #808000; text-decoration-color: #808000\">WARNING: Neither CUDA nor MPS are available - defaulting to CPU. Note: This module is much faster with a GPU.\n",
       "</span></pre>\n"
      ],
      "text/plain": [
       "\u001b[33mWARNING: Neither CUDA nor MPS are available - defaulting to CPU. Note: This module is much faster with a GPU.\u001b[0m\u001b[33m\n",
       "\u001b[0m"
      ]
     },
     "metadata": {},
     "output_type": "display_data"
    },
    {
     "data": {
      "text/html": [
       "<pre style=\"white-space:pre;overflow-x:auto;line-height:normal;font-family:Menlo,'DejaVu Sans Mono',consolas,'Courier New',monospace\"><span style=\"color: #808000; text-decoration-color: #808000\">WARNING: Neither CUDA nor MPS are available - defaulting to CPU. Note: This module is much faster with a GPU.\n",
       "</span></pre>\n"
      ],
      "text/plain": [
       "\u001b[33mWARNING: Neither CUDA nor MPS are available - defaulting to CPU. Note: This module is much faster with a GPU.\u001b[0m\u001b[33m\n",
       "\u001b[0m"
      ]
     },
     "metadata": {},
     "output_type": "display_data"
    },
    {
     "data": {
      "text/html": [
       "<pre style=\"white-space:pre;overflow-x:auto;line-height:normal;font-family:Menlo,'DejaVu Sans Mono',consolas,'Courier New',monospace\"><span style=\"color: #808000; text-decoration-color: #808000\">WARNING: Neither CUDA nor MPS are available - defaulting to CPU. Note: This module is much faster with a GPU.\n",
       "</span></pre>\n"
      ],
      "text/plain": [
       "\u001b[33mWARNING: Neither CUDA nor MPS are available - defaulting to CPU. Note: This module is much faster with a GPU.\u001b[0m\u001b[33m\n",
       "\u001b[0m"
      ]
     },
     "metadata": {},
     "output_type": "display_data"
    },
    {
     "data": {
      "text/html": [
       "<pre style=\"white-space:pre;overflow-x:auto;line-height:normal;font-family:Menlo,'DejaVu Sans Mono',consolas,'Courier New',monospace\"><span style=\"color: #808000; text-decoration-color: #808000\">WARNING: Neither CUDA nor MPS are available - defaulting to CPU. Note: This module is much faster with a GPU.\n",
       "</span></pre>\n"
      ],
      "text/plain": [
       "\u001b[33mWARNING: Neither CUDA nor MPS are available - defaulting to CPU. Note: This module is much faster with a GPU.\u001b[0m\u001b[33m\n",
       "\u001b[0m"
      ]
     },
     "metadata": {},
     "output_type": "display_data"
    },
    {
     "data": {
      "text/html": [
       "<pre style=\"white-space:pre;overflow-x:auto;line-height:normal;font-family:Menlo,'DejaVu Sans Mono',consolas,'Courier New',monospace\"><span style=\"color: #808000; text-decoration-color: #808000\">WARNING: Neither CUDA nor MPS are available - defaulting to CPU. Note: This module is much faster with a GPU.\n",
       "</span></pre>\n"
      ],
      "text/plain": [
       "\u001b[33mWARNING: Neither CUDA nor MPS are available - defaulting to CPU. Note: This module is much faster with a GPU.\u001b[0m\u001b[33m\n",
       "\u001b[0m"
      ]
     },
     "metadata": {},
     "output_type": "display_data"
    },
    {
     "data": {
      "text/html": [
       "<pre style=\"white-space:pre;overflow-x:auto;line-height:normal;font-family:Menlo,'DejaVu Sans Mono',consolas,'Courier New',monospace\"><span style=\"color: #808000; text-decoration-color: #808000\">WARNING: Neither CUDA nor MPS are available - defaulting to CPU. Note: This module is much faster with a GPU.\n",
       "</span></pre>\n"
      ],
      "text/plain": [
       "\u001b[33mWARNING: Neither CUDA nor MPS are available - defaulting to CPU. Note: This module is much faster with a GPU.\u001b[0m\u001b[33m\n",
       "\u001b[0m"
      ]
     },
     "metadata": {},
     "output_type": "display_data"
    },
    {
     "data": {
      "text/html": [
       "<pre style=\"white-space:pre;overflow-x:auto;line-height:normal;font-family:Menlo,'DejaVu Sans Mono',consolas,'Courier New',monospace\"><span style=\"color: #808000; text-decoration-color: #808000\">WARNING: Neither CUDA nor MPS are available - defaulting to CPU. Note: This module is much faster with a GPU.\n",
       "</span></pre>\n"
      ],
      "text/plain": [
       "\u001b[33mWARNING: Neither CUDA nor MPS are available - defaulting to CPU. Note: This module is much faster with a GPU.\u001b[0m\u001b[33m\n",
       "\u001b[0m"
      ]
     },
     "metadata": {},
     "output_type": "display_data"
    },
    {
     "data": {
      "text/html": [
       "<pre style=\"white-space:pre;overflow-x:auto;line-height:normal;font-family:Menlo,'DejaVu Sans Mono',consolas,'Courier New',monospace\"><span style=\"color: #808000; text-decoration-color: #808000\">WARNING: Neither CUDA nor MPS are available - defaulting to CPU. Note: This module is much faster with a GPU.\n",
       "</span></pre>\n"
      ],
      "text/plain": [
       "\u001b[33mWARNING: Neither CUDA nor MPS are available - defaulting to CPU. Note: This module is much faster with a GPU.\u001b[0m\u001b[33m\n",
       "\u001b[0m"
      ]
     },
     "metadata": {},
     "output_type": "display_data"
    },
    {
     "data": {
      "text/html": [
       "<pre style=\"white-space:pre;overflow-x:auto;line-height:normal;font-family:Menlo,'DejaVu Sans Mono',consolas,'Courier New',monospace\"><span style=\"color: #808000; text-decoration-color: #808000\">WARNING: Neither CUDA nor MPS are available - defaulting to CPU. Note: This module is much faster with a GPU.\n",
       "</span></pre>\n"
      ],
      "text/plain": [
       "\u001b[33mWARNING: Neither CUDA nor MPS are available - defaulting to CPU. Note: This module is much faster with a GPU.\u001b[0m\u001b[33m\n",
       "\u001b[0m"
      ]
     },
     "metadata": {},
     "output_type": "display_data"
    },
    {
     "data": {
      "text/html": [
       "<pre style=\"white-space:pre;overflow-x:auto;line-height:normal;font-family:Menlo,'DejaVu Sans Mono',consolas,'Courier New',monospace\"><span style=\"color: #808000; text-decoration-color: #808000\">WARNING: Neither CUDA nor MPS are available - defaulting to CPU. Note: This module is much faster with a GPU.\n",
       "</span></pre>\n"
      ],
      "text/plain": [
       "\u001b[33mWARNING: Neither CUDA nor MPS are available - defaulting to CPU. Note: This module is much faster with a GPU.\u001b[0m\u001b[33m\n",
       "\u001b[0m"
      ]
     },
     "metadata": {},
     "output_type": "display_data"
    },
    {
     "data": {
      "text/html": [
       "<pre style=\"white-space:pre;overflow-x:auto;line-height:normal;font-family:Menlo,'DejaVu Sans Mono',consolas,'Courier New',monospace\"><span style=\"color: #808000; text-decoration-color: #808000\">WARNING: Neither CUDA nor MPS are available - defaulting to CPU. Note: This module is much faster with a GPU.\n",
       "</span></pre>\n"
      ],
      "text/plain": [
       "\u001b[33mWARNING: Neither CUDA nor MPS are available - defaulting to CPU. Note: This module is much faster with a GPU.\u001b[0m\u001b[33m\n",
       "\u001b[0m"
      ]
     },
     "metadata": {},
     "output_type": "display_data"
    },
    {
     "data": {
      "text/html": [
       "<pre style=\"white-space:pre;overflow-x:auto;line-height:normal;font-family:Menlo,'DejaVu Sans Mono',consolas,'Courier New',monospace\"><span style=\"color: #808000; text-decoration-color: #808000\">WARNING: Neither CUDA nor MPS are available - defaulting to CPU. Note: This module is much faster with a GPU.\n",
       "</span></pre>\n"
      ],
      "text/plain": [
       "\u001b[33mWARNING: Neither CUDA nor MPS are available - defaulting to CPU. Note: This module is much faster with a GPU.\u001b[0m\u001b[33m\n",
       "\u001b[0m"
      ]
     },
     "metadata": {},
     "output_type": "display_data"
    },
    {
     "data": {
      "text/html": [
       "<pre style=\"white-space:pre;overflow-x:auto;line-height:normal;font-family:Menlo,'DejaVu Sans Mono',consolas,'Courier New',monospace\"><span style=\"color: #808000; text-decoration-color: #808000\">WARNING: Neither CUDA nor MPS are available - defaulting to CPU. Note: This module is much faster with a GPU.\n",
       "</span></pre>\n"
      ],
      "text/plain": [
       "\u001b[33mWARNING: Neither CUDA nor MPS are available - defaulting to CPU. Note: This module is much faster with a GPU.\u001b[0m\u001b[33m\n",
       "\u001b[0m"
      ]
     },
     "metadata": {},
     "output_type": "display_data"
    },
    {
     "data": {
      "text/html": [
       "<pre style=\"white-space:pre;overflow-x:auto;line-height:normal;font-family:Menlo,'DejaVu Sans Mono',consolas,'Courier New',monospace\"><span style=\"color: #808000; text-decoration-color: #808000\">WARNING: Neither CUDA nor MPS are available - defaulting to CPU. Note: This module is much faster with a GPU.\n",
       "</span></pre>\n"
      ],
      "text/plain": [
       "\u001b[33mWARNING: Neither CUDA nor MPS are available - defaulting to CPU. Note: This module is much faster with a GPU.\u001b[0m\u001b[33m\n",
       "\u001b[0m"
      ]
     },
     "metadata": {},
     "output_type": "display_data"
    },
    {
     "data": {
      "text/html": [
       "<pre style=\"white-space:pre;overflow-x:auto;line-height:normal;font-family:Menlo,'DejaVu Sans Mono',consolas,'Courier New',monospace\"><span style=\"color: #808000; text-decoration-color: #808000\">WARNING: Neither CUDA nor MPS are available - defaulting to CPU. Note: This module is much faster with a GPU.\n",
       "</span></pre>\n"
      ],
      "text/plain": [
       "\u001b[33mWARNING: Neither CUDA nor MPS are available - defaulting to CPU. Note: This module is much faster with a GPU.\u001b[0m\u001b[33m\n",
       "\u001b[0m"
      ]
     },
     "metadata": {},
     "output_type": "display_data"
    },
    {
     "data": {
      "text/html": [
       "<pre style=\"white-space:pre;overflow-x:auto;line-height:normal;font-family:Menlo,'DejaVu Sans Mono',consolas,'Courier New',monospace\"><span style=\"color: #808000; text-decoration-color: #808000\">WARNING: Neither CUDA nor MPS are available - defaulting to CPU. Note: This module is much faster with a GPU.\n",
       "</span></pre>\n"
      ],
      "text/plain": [
       "\u001b[33mWARNING: Neither CUDA nor MPS are available - defaulting to CPU. Note: This module is much faster with a GPU.\u001b[0m\u001b[33m\n",
       "\u001b[0m"
      ]
     },
     "metadata": {},
     "output_type": "display_data"
    },
    {
     "data": {
      "text/html": [
       "<pre style=\"white-space:pre;overflow-x:auto;line-height:normal;font-family:Menlo,'DejaVu Sans Mono',consolas,'Courier New',monospace\"><span style=\"color: #808000; text-decoration-color: #808000\">WARNING: Neither CUDA nor MPS are available - defaulting to CPU. Note: This module is much faster with a GPU.\n",
       "</span></pre>\n"
      ],
      "text/plain": [
       "\u001b[33mWARNING: Neither CUDA nor MPS are available - defaulting to CPU. Note: This module is much faster with a GPU.\u001b[0m\u001b[33m\n",
       "\u001b[0m"
      ]
     },
     "metadata": {},
     "output_type": "display_data"
    },
    {
     "data": {
      "text/html": [
       "<pre style=\"white-space:pre;overflow-x:auto;line-height:normal;font-family:Menlo,'DejaVu Sans Mono',consolas,'Courier New',monospace\"><span style=\"color: #808000; text-decoration-color: #808000\">WARNING: Neither CUDA nor MPS are available - defaulting to CPU. Note: This module is much faster with a GPU.\n",
       "</span></pre>\n"
      ],
      "text/plain": [
       "\u001b[33mWARNING: Neither CUDA nor MPS are available - defaulting to CPU. Note: This module is much faster with a GPU.\u001b[0m\u001b[33m\n",
       "\u001b[0m"
      ]
     },
     "metadata": {},
     "output_type": "display_data"
    },
    {
     "data": {
      "text/html": [
       "<pre style=\"white-space:pre;overflow-x:auto;line-height:normal;font-family:Menlo,'DejaVu Sans Mono',consolas,'Courier New',monospace\"><span style=\"color: #808000; text-decoration-color: #808000\">WARNING: Neither CUDA nor MPS are available - defaulting to CPU. Note: This module is much faster with a GPU.\n",
       "</span></pre>\n"
      ],
      "text/plain": [
       "\u001b[33mWARNING: Neither CUDA nor MPS are available - defaulting to CPU. Note: This module is much faster with a GPU.\u001b[0m\u001b[33m\n",
       "\u001b[0m"
      ]
     },
     "metadata": {},
     "output_type": "display_data"
    },
    {
     "data": {
      "text/html": [
       "<pre style=\"white-space:pre;overflow-x:auto;line-height:normal;font-family:Menlo,'DejaVu Sans Mono',consolas,'Courier New',monospace\"><span style=\"color: #808000; text-decoration-color: #808000\">WARNING: Neither CUDA nor MPS are available - defaulting to CPU. Note: This module is much faster with a GPU.\n",
       "</span></pre>\n"
      ],
      "text/plain": [
       "\u001b[33mWARNING: Neither CUDA nor MPS are available - defaulting to CPU. Note: This module is much faster with a GPU.\u001b[0m\u001b[33m\n",
       "\u001b[0m"
      ]
     },
     "metadata": {},
     "output_type": "display_data"
    },
    {
     "data": {
      "text/html": [
       "<pre style=\"white-space:pre;overflow-x:auto;line-height:normal;font-family:Menlo,'DejaVu Sans Mono',consolas,'Courier New',monospace\"><span style=\"color: #808000; text-decoration-color: #808000\">WARNING: Neither CUDA nor MPS are available - defaulting to CPU. Note: This module is much faster with a GPU.\n",
       "</span></pre>\n"
      ],
      "text/plain": [
       "\u001b[33mWARNING: Neither CUDA nor MPS are available - defaulting to CPU. Note: This module is much faster with a GPU.\u001b[0m\u001b[33m\n",
       "\u001b[0m"
      ]
     },
     "metadata": {},
     "output_type": "display_data"
    },
    {
     "data": {
      "text/html": [
       "<pre style=\"white-space:pre;overflow-x:auto;line-height:normal;font-family:Menlo,'DejaVu Sans Mono',consolas,'Courier New',monospace\"><span style=\"color: #808000; text-decoration-color: #808000\">WARNING: Neither CUDA nor MPS are available - defaulting to CPU. Note: This module is much faster with a GPU.\n",
       "</span></pre>\n"
      ],
      "text/plain": [
       "\u001b[33mWARNING: Neither CUDA nor MPS are available - defaulting to CPU. Note: This module is much faster with a GPU.\u001b[0m\u001b[33m\n",
       "\u001b[0m"
      ]
     },
     "metadata": {},
     "output_type": "display_data"
    },
    {
     "data": {
      "text/html": [
       "<pre style=\"white-space:pre;overflow-x:auto;line-height:normal;font-family:Menlo,'DejaVu Sans Mono',consolas,'Courier New',monospace\"><span style=\"color: #808000; text-decoration-color: #808000\">WARNING: Neither CUDA nor MPS are available - defaulting to CPU. Note: This module is much faster with a GPU.\n",
       "</span></pre>\n"
      ],
      "text/plain": [
       "\u001b[33mWARNING: Neither CUDA nor MPS are available - defaulting to CPU. Note: This module is much faster with a GPU.\u001b[0m\u001b[33m\n",
       "\u001b[0m"
      ]
     },
     "metadata": {},
     "output_type": "display_data"
    },
    {
     "data": {
      "text/html": [
       "<pre style=\"white-space:pre;overflow-x:auto;line-height:normal;font-family:Menlo,'DejaVu Sans Mono',consolas,'Courier New',monospace\"><span style=\"color: #808000; text-decoration-color: #808000\">WARNING: Neither CUDA nor MPS are available - defaulting to CPU. Note: This module is much faster with a GPU.\n",
       "</span></pre>\n"
      ],
      "text/plain": [
       "\u001b[33mWARNING: Neither CUDA nor MPS are available - defaulting to CPU. Note: This module is much faster with a GPU.\u001b[0m\u001b[33m\n",
       "\u001b[0m"
      ]
     },
     "metadata": {},
     "output_type": "display_data"
    },
    {
     "data": {
      "text/html": [
       "<pre style=\"white-space:pre;overflow-x:auto;line-height:normal;font-family:Menlo,'DejaVu Sans Mono',consolas,'Courier New',monospace\"><span style=\"color: #808000; text-decoration-color: #808000\">WARNING: Neither CUDA nor MPS are available - defaulting to CPU. Note: This module is much faster with a GPU.\n",
       "</span></pre>\n"
      ],
      "text/plain": [
       "\u001b[33mWARNING: Neither CUDA nor MPS are available - defaulting to CPU. Note: This module is much faster with a GPU.\u001b[0m\u001b[33m\n",
       "\u001b[0m"
      ]
     },
     "metadata": {},
     "output_type": "display_data"
    },
    {
     "data": {
      "text/html": [
       "<pre style=\"white-space:pre;overflow-x:auto;line-height:normal;font-family:Menlo,'DejaVu Sans Mono',consolas,'Courier New',monospace\"><span style=\"color: #808000; text-decoration-color: #808000\">WARNING: Neither CUDA nor MPS are available - defaulting to CPU. Note: This module is much faster with a GPU.\n",
       "</span></pre>\n"
      ],
      "text/plain": [
       "\u001b[33mWARNING: Neither CUDA nor MPS are available - defaulting to CPU. Note: This module is much faster with a GPU.\u001b[0m\u001b[33m\n",
       "\u001b[0m"
      ]
     },
     "metadata": {},
     "output_type": "display_data"
    },
    {
     "data": {
      "text/html": [
       "<pre style=\"white-space:pre;overflow-x:auto;line-height:normal;font-family:Menlo,'DejaVu Sans Mono',consolas,'Courier New',monospace\"><span style=\"color: #808000; text-decoration-color: #808000\">WARNING: Neither CUDA nor MPS are available - defaulting to CPU. Note: This module is much faster with a GPU.\n",
       "</span></pre>\n"
      ],
      "text/plain": [
       "\u001b[33mWARNING: Neither CUDA nor MPS are available - defaulting to CPU. Note: This module is much faster with a GPU.\u001b[0m\u001b[33m\n",
       "\u001b[0m"
      ]
     },
     "metadata": {},
     "output_type": "display_data"
    },
    {
     "data": {
      "text/html": [
       "<pre style=\"white-space:pre;overflow-x:auto;line-height:normal;font-family:Menlo,'DejaVu Sans Mono',consolas,'Courier New',monospace\"><span style=\"color: #808000; text-decoration-color: #808000\">WARNING: Neither CUDA nor MPS are available - defaulting to CPU. Note: This module is much faster with a GPU.\n",
       "</span></pre>\n"
      ],
      "text/plain": [
       "\u001b[33mWARNING: Neither CUDA nor MPS are available - defaulting to CPU. Note: This module is much faster with a GPU.\u001b[0m\u001b[33m\n",
       "\u001b[0m"
      ]
     },
     "metadata": {},
     "output_type": "display_data"
    },
    {
     "data": {
      "text/html": [
       "<pre style=\"white-space:pre;overflow-x:auto;line-height:normal;font-family:Menlo,'DejaVu Sans Mono',consolas,'Courier New',monospace\"><span style=\"color: #808000; text-decoration-color: #808000\">WARNING: Neither CUDA nor MPS are available - defaulting to CPU. Note: This module is much faster with a GPU.\n",
       "</span></pre>\n"
      ],
      "text/plain": [
       "\u001b[33mWARNING: Neither CUDA nor MPS are available - defaulting to CPU. Note: This module is much faster with a GPU.\u001b[0m\u001b[33m\n",
       "\u001b[0m"
      ]
     },
     "metadata": {},
     "output_type": "display_data"
    },
    {
     "data": {
      "text/html": [
       "<pre style=\"white-space:pre;overflow-x:auto;line-height:normal;font-family:Menlo,'DejaVu Sans Mono',consolas,'Courier New',monospace\"><span style=\"color: #808000; text-decoration-color: #808000\">WARNING: Neither CUDA nor MPS are available - defaulting to CPU. Note: This module is much faster with a GPU.\n",
       "</span></pre>\n"
      ],
      "text/plain": [
       "\u001b[33mWARNING: Neither CUDA nor MPS are available - defaulting to CPU. Note: This module is much faster with a GPU.\u001b[0m\u001b[33m\n",
       "\u001b[0m"
      ]
     },
     "metadata": {},
     "output_type": "display_data"
    },
    {
     "data": {
      "text/html": [
       "<pre style=\"white-space:pre;overflow-x:auto;line-height:normal;font-family:Menlo,'DejaVu Sans Mono',consolas,'Courier New',monospace\"><span style=\"color: #808000; text-decoration-color: #808000\">WARNING: Neither CUDA nor MPS are available - defaulting to CPU. Note: This module is much faster with a GPU.\n",
       "</span></pre>\n"
      ],
      "text/plain": [
       "\u001b[33mWARNING: Neither CUDA nor MPS are available - defaulting to CPU. Note: This module is much faster with a GPU.\u001b[0m\u001b[33m\n",
       "\u001b[0m"
      ]
     },
     "metadata": {},
     "output_type": "display_data"
    },
    {
     "data": {
      "text/html": [
       "<pre style=\"white-space:pre;overflow-x:auto;line-height:normal;font-family:Menlo,'DejaVu Sans Mono',consolas,'Courier New',monospace\"><span style=\"color: #808000; text-decoration-color: #808000\">WARNING: Neither CUDA nor MPS are available - defaulting to CPU. Note: This module is much faster with a GPU.\n",
       "</span></pre>\n"
      ],
      "text/plain": [
       "\u001b[33mWARNING: Neither CUDA nor MPS are available - defaulting to CPU. Note: This module is much faster with a GPU.\u001b[0m\u001b[33m\n",
       "\u001b[0m"
      ]
     },
     "metadata": {},
     "output_type": "display_data"
    }
   ],
   "source": [
    "for index, row in zillow_df.iterrows():\n",
    "    query_url = row['query_url']\n",
    "\n",
    "    login_and_screenshot(username=username, password=password, query_url=query_url)\n",
    "\n",
    "    extracted_text = crop_and_ocr(crop_coordinates)\n",
    "\n",
    "    zillow_df.at[index, 'extracted_text'] = extracted_text"
   ]
  },
  {
   "cell_type": "code",
   "execution_count": 46,
   "metadata": {},
   "outputs": [],
   "source": [
    "zillow_df['pa_rev'] = zillow_df['extracted_text'].apply(lambda x: x.replace('S', '').replace('K Projected Revenue', '').strip() if x else None)"
   ]
  },
  {
   "cell_type": "code",
   "execution_count": 47,
   "metadata": {},
   "outputs": [],
   "source": [
    "import re\n",
    "\n",
    "zillow_df['pa_rev'] = zillow_df['pa_rev'].apply(\n",
    "    lambda x: re.sub(r'[oO]', '0', x) if isinstance(x, str) else x\n",
    ")"
   ]
  },
  {
   "cell_type": "code",
   "execution_count": 49,
   "metadata": {},
   "outputs": [],
   "source": [
    "zillow_df['pa_rev'] = zillow_df['pa_rev'].astype(float).round(2)"
   ]
  },
  {
   "cell_type": "code",
   "execution_count": 51,
   "metadata": {},
   "outputs": [],
   "source": [
    "zillow_df['pa_rev'] = zillow_df['pa_rev'] * 1000"
   ]
  },
  {
   "cell_type": "code",
   "execution_count": 62,
   "metadata": {},
   "outputs": [],
   "source": [
    "def login_and_scroll_screenshot(username, password, query_url):\n",
    "    driver = webdriver.Chrome()\n",
    "\n",
    "    driver.get('https://app.airdna.co/data/us?lat=40.435090&lng=-96.000000&zoom=4.25')\n",
    "\n",
    "    WebDriverWait(driver, 10).until(\n",
    "        EC.presence_of_element_located((By.LINK_TEXT, 'Log in')))\n",
    "    login_button = driver.find_element(By.LINK_TEXT, 'Log in')\n",
    "    login_button.click()\n",
    "\n",
    "    WebDriverWait(driver, 10).until(\n",
    "        EC.presence_of_element_located((By.ID, 'login-email')))\n",
    "    input_email = driver.find_element(By.ID, 'login-email')\n",
    "    input_email.click()\n",
    "    input_email.send_keys(username)\n",
    "\n",
    "    input_password = driver.find_element(By.ID, 'login-password')\n",
    "    input_password.send_keys(password)\n",
    "    input_password.submit()\n",
    "\n",
    "    time.sleep(5)\n",
    "\n",
    "    driver.get(query_url)\n",
    "    time.sleep(5)\n",
    "\n",
    "    driver.execute_script(\"document.body.style.zoom='50%'\")\n",
    "\n",
    "    time.sleep(3)\n",
    "\n",
    "    driver.save_screenshot('full_page_screenshot.png')\n",
    "\n",
    "    driver.quit()"
   ]
  },
  {
   "cell_type": "code",
   "execution_count": 64,
   "metadata": {},
   "outputs": [],
   "source": [
    "def crop_and_extract_text(crop_coordinates):\n",
    "    screenshot = Image.open('full_page_screenshot.png')\n",
    "\n",
    "    left, top, width, height = crop_coordinates\n",
    "    right = left + width\n",
    "    bottom = top + height  \n",
    "\n",
    "    cropped_image = screenshot.crop((left, top, right, bottom))\n",
    "    cropped_image.save('cropped_screenshot.png')\n",
    "\n",
    "    reader = easyocr.Reader(['en'])\n",
    "    result = reader.readtext('cropped_screenshot.png')\n",
    "\n",
    "    extracted_text = [detection[1] for detection in result]\n",
    "    return ' '.join(extracted_text)\n",
    "\n",
    "crop_coordinates = (798, 474, 86, 36)"
   ]
  },
  {
   "cell_type": "code",
   "execution_count": 66,
   "metadata": {},
   "outputs": [
    {
     "data": {
      "text/html": [
       "<pre style=\"white-space:pre;overflow-x:auto;line-height:normal;font-family:Menlo,'DejaVu Sans Mono',consolas,'Courier New',monospace\"><span style=\"color: #808000; text-decoration-color: #808000\">WARNING: Neither CUDA nor MPS are available - defaulting to CPU. Note: This module is much faster with a GPU.\n",
       "</span></pre>\n"
      ],
      "text/plain": [
       "\u001b[33mWARNING: Neither CUDA nor MPS are available - defaulting to CPU. Note: This module is much faster with a GPU.\u001b[0m\u001b[33m\n",
       "\u001b[0m"
      ]
     },
     "metadata": {},
     "output_type": "display_data"
    },
    {
     "data": {
      "text/html": [
       "<pre style=\"white-space:pre;overflow-x:auto;line-height:normal;font-family:Menlo,'DejaVu Sans Mono',consolas,'Courier New',monospace\"><span style=\"color: #808000; text-decoration-color: #808000\">WARNING: Neither CUDA nor MPS are available - defaulting to CPU. Note: This module is much faster with a GPU.\n",
       "</span></pre>\n"
      ],
      "text/plain": [
       "\u001b[33mWARNING: Neither CUDA nor MPS are available - defaulting to CPU. Note: This module is much faster with a GPU.\u001b[0m\u001b[33m\n",
       "\u001b[0m"
      ]
     },
     "metadata": {},
     "output_type": "display_data"
    },
    {
     "data": {
      "text/html": [
       "<pre style=\"white-space:pre;overflow-x:auto;line-height:normal;font-family:Menlo,'DejaVu Sans Mono',consolas,'Courier New',monospace\"><span style=\"color: #808000; text-decoration-color: #808000\">WARNING: Neither CUDA nor MPS are available - defaulting to CPU. Note: This module is much faster with a GPU.\n",
       "</span></pre>\n"
      ],
      "text/plain": [
       "\u001b[33mWARNING: Neither CUDA nor MPS are available - defaulting to CPU. Note: This module is much faster with a GPU.\u001b[0m\u001b[33m\n",
       "\u001b[0m"
      ]
     },
     "metadata": {},
     "output_type": "display_data"
    },
    {
     "data": {
      "text/html": [
       "<pre style=\"white-space:pre;overflow-x:auto;line-height:normal;font-family:Menlo,'DejaVu Sans Mono',consolas,'Courier New',monospace\"><span style=\"color: #808000; text-decoration-color: #808000\">WARNING: Neither CUDA nor MPS are available - defaulting to CPU. Note: This module is much faster with a GPU.\n",
       "</span></pre>\n"
      ],
      "text/plain": [
       "\u001b[33mWARNING: Neither CUDA nor MPS are available - defaulting to CPU. Note: This module is much faster with a GPU.\u001b[0m\u001b[33m\n",
       "\u001b[0m"
      ]
     },
     "metadata": {},
     "output_type": "display_data"
    },
    {
     "data": {
      "text/html": [
       "<pre style=\"white-space:pre;overflow-x:auto;line-height:normal;font-family:Menlo,'DejaVu Sans Mono',consolas,'Courier New',monospace\"><span style=\"color: #808000; text-decoration-color: #808000\">WARNING: Neither CUDA nor MPS are available - defaulting to CPU. Note: This module is much faster with a GPU.\n",
       "</span></pre>\n"
      ],
      "text/plain": [
       "\u001b[33mWARNING: Neither CUDA nor MPS are available - defaulting to CPU. Note: This module is much faster with a GPU.\u001b[0m\u001b[33m\n",
       "\u001b[0m"
      ]
     },
     "metadata": {},
     "output_type": "display_data"
    },
    {
     "data": {
      "text/html": [
       "<pre style=\"white-space:pre;overflow-x:auto;line-height:normal;font-family:Menlo,'DejaVu Sans Mono',consolas,'Courier New',monospace\"><span style=\"color: #808000; text-decoration-color: #808000\">WARNING: Neither CUDA nor MPS are available - defaulting to CPU. Note: This module is much faster with a GPU.\n",
       "</span></pre>\n"
      ],
      "text/plain": [
       "\u001b[33mWARNING: Neither CUDA nor MPS are available - defaulting to CPU. Note: This module is much faster with a GPU.\u001b[0m\u001b[33m\n",
       "\u001b[0m"
      ]
     },
     "metadata": {},
     "output_type": "display_data"
    },
    {
     "data": {
      "text/html": [
       "<pre style=\"white-space:pre;overflow-x:auto;line-height:normal;font-family:Menlo,'DejaVu Sans Mono',consolas,'Courier New',monospace\"><span style=\"color: #808000; text-decoration-color: #808000\">WARNING: Neither CUDA nor MPS are available - defaulting to CPU. Note: This module is much faster with a GPU.\n",
       "</span></pre>\n"
      ],
      "text/plain": [
       "\u001b[33mWARNING: Neither CUDA nor MPS are available - defaulting to CPU. Note: This module is much faster with a GPU.\u001b[0m\u001b[33m\n",
       "\u001b[0m"
      ]
     },
     "metadata": {},
     "output_type": "display_data"
    },
    {
     "data": {
      "text/html": [
       "<pre style=\"white-space:pre;overflow-x:auto;line-height:normal;font-family:Menlo,'DejaVu Sans Mono',consolas,'Courier New',monospace\"><span style=\"color: #808000; text-decoration-color: #808000\">WARNING: Neither CUDA nor MPS are available - defaulting to CPU. Note: This module is much faster with a GPU.\n",
       "</span></pre>\n"
      ],
      "text/plain": [
       "\u001b[33mWARNING: Neither CUDA nor MPS are available - defaulting to CPU. Note: This module is much faster with a GPU.\u001b[0m\u001b[33m\n",
       "\u001b[0m"
      ]
     },
     "metadata": {},
     "output_type": "display_data"
    },
    {
     "data": {
      "text/html": [
       "<pre style=\"white-space:pre;overflow-x:auto;line-height:normal;font-family:Menlo,'DejaVu Sans Mono',consolas,'Courier New',monospace\"><span style=\"color: #808000; text-decoration-color: #808000\">WARNING: Neither CUDA nor MPS are available - defaulting to CPU. Note: This module is much faster with a GPU.\n",
       "</span></pre>\n"
      ],
      "text/plain": [
       "\u001b[33mWARNING: Neither CUDA nor MPS are available - defaulting to CPU. Note: This module is much faster with a GPU.\u001b[0m\u001b[33m\n",
       "\u001b[0m"
      ]
     },
     "metadata": {},
     "output_type": "display_data"
    },
    {
     "data": {
      "text/html": [
       "<pre style=\"white-space:pre;overflow-x:auto;line-height:normal;font-family:Menlo,'DejaVu Sans Mono',consolas,'Courier New',monospace\"><span style=\"color: #808000; text-decoration-color: #808000\">WARNING: Neither CUDA nor MPS are available - defaulting to CPU. Note: This module is much faster with a GPU.\n",
       "</span></pre>\n"
      ],
      "text/plain": [
       "\u001b[33mWARNING: Neither CUDA nor MPS are available - defaulting to CPU. Note: This module is much faster with a GPU.\u001b[0m\u001b[33m\n",
       "\u001b[0m"
      ]
     },
     "metadata": {},
     "output_type": "display_data"
    },
    {
     "data": {
      "text/html": [
       "<pre style=\"white-space:pre;overflow-x:auto;line-height:normal;font-family:Menlo,'DejaVu Sans Mono',consolas,'Courier New',monospace\"><span style=\"color: #808000; text-decoration-color: #808000\">WARNING: Neither CUDA nor MPS are available - defaulting to CPU. Note: This module is much faster with a GPU.\n",
       "</span></pre>\n"
      ],
      "text/plain": [
       "\u001b[33mWARNING: Neither CUDA nor MPS are available - defaulting to CPU. Note: This module is much faster with a GPU.\u001b[0m\u001b[33m\n",
       "\u001b[0m"
      ]
     },
     "metadata": {},
     "output_type": "display_data"
    },
    {
     "data": {
      "text/html": [
       "<pre style=\"white-space:pre;overflow-x:auto;line-height:normal;font-family:Menlo,'DejaVu Sans Mono',consolas,'Courier New',monospace\"><span style=\"color: #808000; text-decoration-color: #808000\">WARNING: Neither CUDA nor MPS are available - defaulting to CPU. Note: This module is much faster with a GPU.\n",
       "</span></pre>\n"
      ],
      "text/plain": [
       "\u001b[33mWARNING: Neither CUDA nor MPS are available - defaulting to CPU. Note: This module is much faster with a GPU.\u001b[0m\u001b[33m\n",
       "\u001b[0m"
      ]
     },
     "metadata": {},
     "output_type": "display_data"
    },
    {
     "data": {
      "text/html": [
       "<pre style=\"white-space:pre;overflow-x:auto;line-height:normal;font-family:Menlo,'DejaVu Sans Mono',consolas,'Courier New',monospace\"><span style=\"color: #808000; text-decoration-color: #808000\">WARNING: Neither CUDA nor MPS are available - defaulting to CPU. Note: This module is much faster with a GPU.\n",
       "</span></pre>\n"
      ],
      "text/plain": [
       "\u001b[33mWARNING: Neither CUDA nor MPS are available - defaulting to CPU. Note: This module is much faster with a GPU.\u001b[0m\u001b[33m\n",
       "\u001b[0m"
      ]
     },
     "metadata": {},
     "output_type": "display_data"
    },
    {
     "data": {
      "text/html": [
       "<pre style=\"white-space:pre;overflow-x:auto;line-height:normal;font-family:Menlo,'DejaVu Sans Mono',consolas,'Courier New',monospace\"><span style=\"color: #808000; text-decoration-color: #808000\">WARNING: Neither CUDA nor MPS are available - defaulting to CPU. Note: This module is much faster with a GPU.\n",
       "</span></pre>\n"
      ],
      "text/plain": [
       "\u001b[33mWARNING: Neither CUDA nor MPS are available - defaulting to CPU. Note: This module is much faster with a GPU.\u001b[0m\u001b[33m\n",
       "\u001b[0m"
      ]
     },
     "metadata": {},
     "output_type": "display_data"
    },
    {
     "data": {
      "text/html": [
       "<pre style=\"white-space:pre;overflow-x:auto;line-height:normal;font-family:Menlo,'DejaVu Sans Mono',consolas,'Courier New',monospace\"><span style=\"color: #808000; text-decoration-color: #808000\">WARNING: Neither CUDA nor MPS are available - defaulting to CPU. Note: This module is much faster with a GPU.\n",
       "</span></pre>\n"
      ],
      "text/plain": [
       "\u001b[33mWARNING: Neither CUDA nor MPS are available - defaulting to CPU. Note: This module is much faster with a GPU.\u001b[0m\u001b[33m\n",
       "\u001b[0m"
      ]
     },
     "metadata": {},
     "output_type": "display_data"
    },
    {
     "data": {
      "text/html": [
       "<pre style=\"white-space:pre;overflow-x:auto;line-height:normal;font-family:Menlo,'DejaVu Sans Mono',consolas,'Courier New',monospace\"><span style=\"color: #808000; text-decoration-color: #808000\">WARNING: Neither CUDA nor MPS are available - defaulting to CPU. Note: This module is much faster with a GPU.\n",
       "</span></pre>\n"
      ],
      "text/plain": [
       "\u001b[33mWARNING: Neither CUDA nor MPS are available - defaulting to CPU. Note: This module is much faster with a GPU.\u001b[0m\u001b[33m\n",
       "\u001b[0m"
      ]
     },
     "metadata": {},
     "output_type": "display_data"
    },
    {
     "data": {
      "text/html": [
       "<pre style=\"white-space:pre;overflow-x:auto;line-height:normal;font-family:Menlo,'DejaVu Sans Mono',consolas,'Courier New',monospace\"><span style=\"color: #808000; text-decoration-color: #808000\">WARNING: Neither CUDA nor MPS are available - defaulting to CPU. Note: This module is much faster with a GPU.\n",
       "</span></pre>\n"
      ],
      "text/plain": [
       "\u001b[33mWARNING: Neither CUDA nor MPS are available - defaulting to CPU. Note: This module is much faster with a GPU.\u001b[0m\u001b[33m\n",
       "\u001b[0m"
      ]
     },
     "metadata": {},
     "output_type": "display_data"
    },
    {
     "data": {
      "text/html": [
       "<pre style=\"white-space:pre;overflow-x:auto;line-height:normal;font-family:Menlo,'DejaVu Sans Mono',consolas,'Courier New',monospace\"><span style=\"color: #808000; text-decoration-color: #808000\">WARNING: Neither CUDA nor MPS are available - defaulting to CPU. Note: This module is much faster with a GPU.\n",
       "</span></pre>\n"
      ],
      "text/plain": [
       "\u001b[33mWARNING: Neither CUDA nor MPS are available - defaulting to CPU. Note: This module is much faster with a GPU.\u001b[0m\u001b[33m\n",
       "\u001b[0m"
      ]
     },
     "metadata": {},
     "output_type": "display_data"
    },
    {
     "data": {
      "text/html": [
       "<pre style=\"white-space:pre;overflow-x:auto;line-height:normal;font-family:Menlo,'DejaVu Sans Mono',consolas,'Courier New',monospace\"><span style=\"color: #808000; text-decoration-color: #808000\">WARNING: Neither CUDA nor MPS are available - defaulting to CPU. Note: This module is much faster with a GPU.\n",
       "</span></pre>\n"
      ],
      "text/plain": [
       "\u001b[33mWARNING: Neither CUDA nor MPS are available - defaulting to CPU. Note: This module is much faster with a GPU.\u001b[0m\u001b[33m\n",
       "\u001b[0m"
      ]
     },
     "metadata": {},
     "output_type": "display_data"
    },
    {
     "data": {
      "text/html": [
       "<pre style=\"white-space:pre;overflow-x:auto;line-height:normal;font-family:Menlo,'DejaVu Sans Mono',consolas,'Courier New',monospace\"><span style=\"color: #808000; text-decoration-color: #808000\">WARNING: Neither CUDA nor MPS are available - defaulting to CPU. Note: This module is much faster with a GPU.\n",
       "</span></pre>\n"
      ],
      "text/plain": [
       "\u001b[33mWARNING: Neither CUDA nor MPS are available - defaulting to CPU. Note: This module is much faster with a GPU.\u001b[0m\u001b[33m\n",
       "\u001b[0m"
      ]
     },
     "metadata": {},
     "output_type": "display_data"
    },
    {
     "data": {
      "text/html": [
       "<pre style=\"white-space:pre;overflow-x:auto;line-height:normal;font-family:Menlo,'DejaVu Sans Mono',consolas,'Courier New',monospace\"><span style=\"color: #808000; text-decoration-color: #808000\">WARNING: Neither CUDA nor MPS are available - defaulting to CPU. Note: This module is much faster with a GPU.\n",
       "</span></pre>\n"
      ],
      "text/plain": [
       "\u001b[33mWARNING: Neither CUDA nor MPS are available - defaulting to CPU. Note: This module is much faster with a GPU.\u001b[0m\u001b[33m\n",
       "\u001b[0m"
      ]
     },
     "metadata": {},
     "output_type": "display_data"
    },
    {
     "data": {
      "text/html": [
       "<pre style=\"white-space:pre;overflow-x:auto;line-height:normal;font-family:Menlo,'DejaVu Sans Mono',consolas,'Courier New',monospace\"><span style=\"color: #808000; text-decoration-color: #808000\">WARNING: Neither CUDA nor MPS are available - defaulting to CPU. Note: This module is much faster with a GPU.\n",
       "</span></pre>\n"
      ],
      "text/plain": [
       "\u001b[33mWARNING: Neither CUDA nor MPS are available - defaulting to CPU. Note: This module is much faster with a GPU.\u001b[0m\u001b[33m\n",
       "\u001b[0m"
      ]
     },
     "metadata": {},
     "output_type": "display_data"
    },
    {
     "data": {
      "text/html": [
       "<pre style=\"white-space:pre;overflow-x:auto;line-height:normal;font-family:Menlo,'DejaVu Sans Mono',consolas,'Courier New',monospace\"><span style=\"color: #808000; text-decoration-color: #808000\">WARNING: Neither CUDA nor MPS are available - defaulting to CPU. Note: This module is much faster with a GPU.\n",
       "</span></pre>\n"
      ],
      "text/plain": [
       "\u001b[33mWARNING: Neither CUDA nor MPS are available - defaulting to CPU. Note: This module is much faster with a GPU.\u001b[0m\u001b[33m\n",
       "\u001b[0m"
      ]
     },
     "metadata": {},
     "output_type": "display_data"
    },
    {
     "data": {
      "text/html": [
       "<pre style=\"white-space:pre;overflow-x:auto;line-height:normal;font-family:Menlo,'DejaVu Sans Mono',consolas,'Courier New',monospace\"><span style=\"color: #808000; text-decoration-color: #808000\">WARNING: Neither CUDA nor MPS are available - defaulting to CPU. Note: This module is much faster with a GPU.\n",
       "</span></pre>\n"
      ],
      "text/plain": [
       "\u001b[33mWARNING: Neither CUDA nor MPS are available - defaulting to CPU. Note: This module is much faster with a GPU.\u001b[0m\u001b[33m\n",
       "\u001b[0m"
      ]
     },
     "metadata": {},
     "output_type": "display_data"
    },
    {
     "data": {
      "text/html": [
       "<pre style=\"white-space:pre;overflow-x:auto;line-height:normal;font-family:Menlo,'DejaVu Sans Mono',consolas,'Courier New',monospace\"><span style=\"color: #808000; text-decoration-color: #808000\">WARNING: Neither CUDA nor MPS are available - defaulting to CPU. Note: This module is much faster with a GPU.\n",
       "</span></pre>\n"
      ],
      "text/plain": [
       "\u001b[33mWARNING: Neither CUDA nor MPS are available - defaulting to CPU. Note: This module is much faster with a GPU.\u001b[0m\u001b[33m\n",
       "\u001b[0m"
      ]
     },
     "metadata": {},
     "output_type": "display_data"
    },
    {
     "data": {
      "text/html": [
       "<pre style=\"white-space:pre;overflow-x:auto;line-height:normal;font-family:Menlo,'DejaVu Sans Mono',consolas,'Courier New',monospace\"><span style=\"color: #808000; text-decoration-color: #808000\">WARNING: Neither CUDA nor MPS are available - defaulting to CPU. Note: This module is much faster with a GPU.\n",
       "</span></pre>\n"
      ],
      "text/plain": [
       "\u001b[33mWARNING: Neither CUDA nor MPS are available - defaulting to CPU. Note: This module is much faster with a GPU.\u001b[0m\u001b[33m\n",
       "\u001b[0m"
      ]
     },
     "metadata": {},
     "output_type": "display_data"
    },
    {
     "data": {
      "text/html": [
       "<pre style=\"white-space:pre;overflow-x:auto;line-height:normal;font-family:Menlo,'DejaVu Sans Mono',consolas,'Courier New',monospace\"><span style=\"color: #808000; text-decoration-color: #808000\">WARNING: Neither CUDA nor MPS are available - defaulting to CPU. Note: This module is much faster with a GPU.\n",
       "</span></pre>\n"
      ],
      "text/plain": [
       "\u001b[33mWARNING: Neither CUDA nor MPS are available - defaulting to CPU. Note: This module is much faster with a GPU.\u001b[0m\u001b[33m\n",
       "\u001b[0m"
      ]
     },
     "metadata": {},
     "output_type": "display_data"
    },
    {
     "data": {
      "text/html": [
       "<pre style=\"white-space:pre;overflow-x:auto;line-height:normal;font-family:Menlo,'DejaVu Sans Mono',consolas,'Courier New',monospace\"><span style=\"color: #808000; text-decoration-color: #808000\">WARNING: Neither CUDA nor MPS are available - defaulting to CPU. Note: This module is much faster with a GPU.\n",
       "</span></pre>\n"
      ],
      "text/plain": [
       "\u001b[33mWARNING: Neither CUDA nor MPS are available - defaulting to CPU. Note: This module is much faster with a GPU.\u001b[0m\u001b[33m\n",
       "\u001b[0m"
      ]
     },
     "metadata": {},
     "output_type": "display_data"
    },
    {
     "data": {
      "text/html": [
       "<pre style=\"white-space:pre;overflow-x:auto;line-height:normal;font-family:Menlo,'DejaVu Sans Mono',consolas,'Courier New',monospace\"><span style=\"color: #808000; text-decoration-color: #808000\">WARNING: Neither CUDA nor MPS are available - defaulting to CPU. Note: This module is much faster with a GPU.\n",
       "</span></pre>\n"
      ],
      "text/plain": [
       "\u001b[33mWARNING: Neither CUDA nor MPS are available - defaulting to CPU. Note: This module is much faster with a GPU.\u001b[0m\u001b[33m\n",
       "\u001b[0m"
      ]
     },
     "metadata": {},
     "output_type": "display_data"
    },
    {
     "data": {
      "text/html": [
       "<pre style=\"white-space:pre;overflow-x:auto;line-height:normal;font-family:Menlo,'DejaVu Sans Mono',consolas,'Courier New',monospace\"><span style=\"color: #808000; text-decoration-color: #808000\">WARNING: Neither CUDA nor MPS are available - defaulting to CPU. Note: This module is much faster with a GPU.\n",
       "</span></pre>\n"
      ],
      "text/plain": [
       "\u001b[33mWARNING: Neither CUDA nor MPS are available - defaulting to CPU. Note: This module is much faster with a GPU.\u001b[0m\u001b[33m\n",
       "\u001b[0m"
      ]
     },
     "metadata": {},
     "output_type": "display_data"
    },
    {
     "data": {
      "text/html": [
       "<pre style=\"white-space:pre;overflow-x:auto;line-height:normal;font-family:Menlo,'DejaVu Sans Mono',consolas,'Courier New',monospace\"><span style=\"color: #808000; text-decoration-color: #808000\">WARNING: Neither CUDA nor MPS are available - defaulting to CPU. Note: This module is much faster with a GPU.\n",
       "</span></pre>\n"
      ],
      "text/plain": [
       "\u001b[33mWARNING: Neither CUDA nor MPS are available - defaulting to CPU. Note: This module is much faster with a GPU.\u001b[0m\u001b[33m\n",
       "\u001b[0m"
      ]
     },
     "metadata": {},
     "output_type": "display_data"
    },
    {
     "data": {
      "text/html": [
       "<pre style=\"white-space:pre;overflow-x:auto;line-height:normal;font-family:Menlo,'DejaVu Sans Mono',consolas,'Courier New',monospace\"><span style=\"color: #808000; text-decoration-color: #808000\">WARNING: Neither CUDA nor MPS are available - defaulting to CPU. Note: This module is much faster with a GPU.\n",
       "</span></pre>\n"
      ],
      "text/plain": [
       "\u001b[33mWARNING: Neither CUDA nor MPS are available - defaulting to CPU. Note: This module is much faster with a GPU.\u001b[0m\u001b[33m\n",
       "\u001b[0m"
      ]
     },
     "metadata": {},
     "output_type": "display_data"
    },
    {
     "data": {
      "text/html": [
       "<pre style=\"white-space:pre;overflow-x:auto;line-height:normal;font-family:Menlo,'DejaVu Sans Mono',consolas,'Courier New',monospace\"><span style=\"color: #808000; text-decoration-color: #808000\">WARNING: Neither CUDA nor MPS are available - defaulting to CPU. Note: This module is much faster with a GPU.\n",
       "</span></pre>\n"
      ],
      "text/plain": [
       "\u001b[33mWARNING: Neither CUDA nor MPS are available - defaulting to CPU. Note: This module is much faster with a GPU.\u001b[0m\u001b[33m\n",
       "\u001b[0m"
      ]
     },
     "metadata": {},
     "output_type": "display_data"
    },
    {
     "data": {
      "text/html": [
       "<pre style=\"white-space:pre;overflow-x:auto;line-height:normal;font-family:Menlo,'DejaVu Sans Mono',consolas,'Courier New',monospace\"><span style=\"color: #808000; text-decoration-color: #808000\">WARNING: Neither CUDA nor MPS are available - defaulting to CPU. Note: This module is much faster with a GPU.\n",
       "</span></pre>\n"
      ],
      "text/plain": [
       "\u001b[33mWARNING: Neither CUDA nor MPS are available - defaulting to CPU. Note: This module is much faster with a GPU.\u001b[0m\u001b[33m\n",
       "\u001b[0m"
      ]
     },
     "metadata": {},
     "output_type": "display_data"
    },
    {
     "data": {
      "text/html": [
       "<pre style=\"white-space:pre;overflow-x:auto;line-height:normal;font-family:Menlo,'DejaVu Sans Mono',consolas,'Courier New',monospace\"><span style=\"color: #808000; text-decoration-color: #808000\">WARNING: Neither CUDA nor MPS are available - defaulting to CPU. Note: This module is much faster with a GPU.\n",
       "</span></pre>\n"
      ],
      "text/plain": [
       "\u001b[33mWARNING: Neither CUDA nor MPS are available - defaulting to CPU. Note: This module is much faster with a GPU.\u001b[0m\u001b[33m\n",
       "\u001b[0m"
      ]
     },
     "metadata": {},
     "output_type": "display_data"
    },
    {
     "data": {
      "text/html": [
       "<pre style=\"white-space:pre;overflow-x:auto;line-height:normal;font-family:Menlo,'DejaVu Sans Mono',consolas,'Courier New',monospace\"><span style=\"color: #808000; text-decoration-color: #808000\">WARNING: Neither CUDA nor MPS are available - defaulting to CPU. Note: This module is much faster with a GPU.\n",
       "</span></pre>\n"
      ],
      "text/plain": [
       "\u001b[33mWARNING: Neither CUDA nor MPS are available - defaulting to CPU. Note: This module is much faster with a GPU.\u001b[0m\u001b[33m\n",
       "\u001b[0m"
      ]
     },
     "metadata": {},
     "output_type": "display_data"
    },
    {
     "data": {
      "text/html": [
       "<pre style=\"white-space:pre;overflow-x:auto;line-height:normal;font-family:Menlo,'DejaVu Sans Mono',consolas,'Courier New',monospace\"><span style=\"color: #808000; text-decoration-color: #808000\">WARNING: Neither CUDA nor MPS are available - defaulting to CPU. Note: This module is much faster with a GPU.\n",
       "</span></pre>\n"
      ],
      "text/plain": [
       "\u001b[33mWARNING: Neither CUDA nor MPS are available - defaulting to CPU. Note: This module is much faster with a GPU.\u001b[0m\u001b[33m\n",
       "\u001b[0m"
      ]
     },
     "metadata": {},
     "output_type": "display_data"
    },
    {
     "data": {
      "text/html": [
       "<pre style=\"white-space:pre;overflow-x:auto;line-height:normal;font-family:Menlo,'DejaVu Sans Mono',consolas,'Courier New',monospace\"><span style=\"color: #808000; text-decoration-color: #808000\">WARNING: Neither CUDA nor MPS are available - defaulting to CPU. Note: This module is much faster with a GPU.\n",
       "</span></pre>\n"
      ],
      "text/plain": [
       "\u001b[33mWARNING: Neither CUDA nor MPS are available - defaulting to CPU. Note: This module is much faster with a GPU.\u001b[0m\u001b[33m\n",
       "\u001b[0m"
      ]
     },
     "metadata": {},
     "output_type": "display_data"
    },
    {
     "data": {
      "text/html": [
       "<pre style=\"white-space:pre;overflow-x:auto;line-height:normal;font-family:Menlo,'DejaVu Sans Mono',consolas,'Courier New',monospace\"><span style=\"color: #808000; text-decoration-color: #808000\">WARNING: Neither CUDA nor MPS are available - defaulting to CPU. Note: This module is much faster with a GPU.\n",
       "</span></pre>\n"
      ],
      "text/plain": [
       "\u001b[33mWARNING: Neither CUDA nor MPS are available - defaulting to CPU. Note: This module is much faster with a GPU.\u001b[0m\u001b[33m\n",
       "\u001b[0m"
      ]
     },
     "metadata": {},
     "output_type": "display_data"
    },
    {
     "data": {
      "text/html": [
       "<pre style=\"white-space:pre;overflow-x:auto;line-height:normal;font-family:Menlo,'DejaVu Sans Mono',consolas,'Courier New',monospace\"><span style=\"color: #808000; text-decoration-color: #808000\">WARNING: Neither CUDA nor MPS are available - defaulting to CPU. Note: This module is much faster with a GPU.\n",
       "</span></pre>\n"
      ],
      "text/plain": [
       "\u001b[33mWARNING: Neither CUDA nor MPS are available - defaulting to CPU. Note: This module is much faster with a GPU.\u001b[0m\u001b[33m\n",
       "\u001b[0m"
      ]
     },
     "metadata": {},
     "output_type": "display_data"
    },
    {
     "data": {
      "text/html": [
       "<pre style=\"white-space:pre;overflow-x:auto;line-height:normal;font-family:Menlo,'DejaVu Sans Mono',consolas,'Courier New',monospace\"><span style=\"color: #808000; text-decoration-color: #808000\">WARNING: Neither CUDA nor MPS are available - defaulting to CPU. Note: This module is much faster with a GPU.\n",
       "</span></pre>\n"
      ],
      "text/plain": [
       "\u001b[33mWARNING: Neither CUDA nor MPS are available - defaulting to CPU. Note: This module is much faster with a GPU.\u001b[0m\u001b[33m\n",
       "\u001b[0m"
      ]
     },
     "metadata": {},
     "output_type": "display_data"
    },
    {
     "data": {
      "text/html": [
       "<pre style=\"white-space:pre;overflow-x:auto;line-height:normal;font-family:Menlo,'DejaVu Sans Mono',consolas,'Courier New',monospace\"><span style=\"color: #808000; text-decoration-color: #808000\">WARNING: Neither CUDA nor MPS are available - defaulting to CPU. Note: This module is much faster with a GPU.\n",
       "</span></pre>\n"
      ],
      "text/plain": [
       "\u001b[33mWARNING: Neither CUDA nor MPS are available - defaulting to CPU. Note: This module is much faster with a GPU.\u001b[0m\u001b[33m\n",
       "\u001b[0m"
      ]
     },
     "metadata": {},
     "output_type": "display_data"
    },
    {
     "data": {
      "text/html": [
       "<pre style=\"white-space:pre;overflow-x:auto;line-height:normal;font-family:Menlo,'DejaVu Sans Mono',consolas,'Courier New',monospace\"><span style=\"color: #808000; text-decoration-color: #808000\">WARNING: Neither CUDA nor MPS are available - defaulting to CPU. Note: This module is much faster with a GPU.\n",
       "</span></pre>\n"
      ],
      "text/plain": [
       "\u001b[33mWARNING: Neither CUDA nor MPS are available - defaulting to CPU. Note: This module is much faster with a GPU.\u001b[0m\u001b[33m\n",
       "\u001b[0m"
      ]
     },
     "metadata": {},
     "output_type": "display_data"
    },
    {
     "data": {
      "text/html": [
       "<pre style=\"white-space:pre;overflow-x:auto;line-height:normal;font-family:Menlo,'DejaVu Sans Mono',consolas,'Courier New',monospace\"><span style=\"color: #808000; text-decoration-color: #808000\">WARNING: Neither CUDA nor MPS are available - defaulting to CPU. Note: This module is much faster with a GPU.\n",
       "</span></pre>\n"
      ],
      "text/plain": [
       "\u001b[33mWARNING: Neither CUDA nor MPS are available - defaulting to CPU. Note: This module is much faster with a GPU.\u001b[0m\u001b[33m\n",
       "\u001b[0m"
      ]
     },
     "metadata": {},
     "output_type": "display_data"
    },
    {
     "data": {
      "text/html": [
       "<pre style=\"white-space:pre;overflow-x:auto;line-height:normal;font-family:Menlo,'DejaVu Sans Mono',consolas,'Courier New',monospace\"><span style=\"color: #808000; text-decoration-color: #808000\">WARNING: Neither CUDA nor MPS are available - defaulting to CPU. Note: This module is much faster with a GPU.\n",
       "</span></pre>\n"
      ],
      "text/plain": [
       "\u001b[33mWARNING: Neither CUDA nor MPS are available - defaulting to CPU. Note: This module is much faster with a GPU.\u001b[0m\u001b[33m\n",
       "\u001b[0m"
      ]
     },
     "metadata": {},
     "output_type": "display_data"
    },
    {
     "data": {
      "text/html": [
       "<pre style=\"white-space:pre;overflow-x:auto;line-height:normal;font-family:Menlo,'DejaVu Sans Mono',consolas,'Courier New',monospace\"><span style=\"color: #808000; text-decoration-color: #808000\">WARNING: Neither CUDA nor MPS are available - defaulting to CPU. Note: This module is much faster with a GPU.\n",
       "</span></pre>\n"
      ],
      "text/plain": [
       "\u001b[33mWARNING: Neither CUDA nor MPS are available - defaulting to CPU. Note: This module is much faster with a GPU.\u001b[0m\u001b[33m\n",
       "\u001b[0m"
      ]
     },
     "metadata": {},
     "output_type": "display_data"
    },
    {
     "data": {
      "text/html": [
       "<pre style=\"white-space:pre;overflow-x:auto;line-height:normal;font-family:Menlo,'DejaVu Sans Mono',consolas,'Courier New',monospace\"><span style=\"color: #808000; text-decoration-color: #808000\">WARNING: Neither CUDA nor MPS are available - defaulting to CPU. Note: This module is much faster with a GPU.\n",
       "</span></pre>\n"
      ],
      "text/plain": [
       "\u001b[33mWARNING: Neither CUDA nor MPS are available - defaulting to CPU. Note: This module is much faster with a GPU.\u001b[0m\u001b[33m\n",
       "\u001b[0m"
      ]
     },
     "metadata": {},
     "output_type": "display_data"
    },
    {
     "data": {
      "text/html": [
       "<pre style=\"white-space:pre;overflow-x:auto;line-height:normal;font-family:Menlo,'DejaVu Sans Mono',consolas,'Courier New',monospace\"><span style=\"color: #808000; text-decoration-color: #808000\">WARNING: Neither CUDA nor MPS are available - defaulting to CPU. Note: This module is much faster with a GPU.\n",
       "</span></pre>\n"
      ],
      "text/plain": [
       "\u001b[33mWARNING: Neither CUDA nor MPS are available - defaulting to CPU. Note: This module is much faster with a GPU.\u001b[0m\u001b[33m\n",
       "\u001b[0m"
      ]
     },
     "metadata": {},
     "output_type": "display_data"
    },
    {
     "data": {
      "text/html": [
       "<pre style=\"white-space:pre;overflow-x:auto;line-height:normal;font-family:Menlo,'DejaVu Sans Mono',consolas,'Courier New',monospace\"><span style=\"color: #808000; text-decoration-color: #808000\">WARNING: Neither CUDA nor MPS are available - defaulting to CPU. Note: This module is much faster with a GPU.\n",
       "</span></pre>\n"
      ],
      "text/plain": [
       "\u001b[33mWARNING: Neither CUDA nor MPS are available - defaulting to CPU. Note: This module is much faster with a GPU.\u001b[0m\u001b[33m\n",
       "\u001b[0m"
      ]
     },
     "metadata": {},
     "output_type": "display_data"
    },
    {
     "data": {
      "text/html": [
       "<pre style=\"white-space:pre;overflow-x:auto;line-height:normal;font-family:Menlo,'DejaVu Sans Mono',consolas,'Courier New',monospace\"><span style=\"color: #808000; text-decoration-color: #808000\">WARNING: Neither CUDA nor MPS are available - defaulting to CPU. Note: This module is much faster with a GPU.\n",
       "</span></pre>\n"
      ],
      "text/plain": [
       "\u001b[33mWARNING: Neither CUDA nor MPS are available - defaulting to CPU. Note: This module is much faster with a GPU.\u001b[0m\u001b[33m\n",
       "\u001b[0m"
      ]
     },
     "metadata": {},
     "output_type": "display_data"
    },
    {
     "data": {
      "text/html": [
       "<pre style=\"white-space:pre;overflow-x:auto;line-height:normal;font-family:Menlo,'DejaVu Sans Mono',consolas,'Courier New',monospace\"><span style=\"color: #808000; text-decoration-color: #808000\">WARNING: Neither CUDA nor MPS are available - defaulting to CPU. Note: This module is much faster with a GPU.\n",
       "</span></pre>\n"
      ],
      "text/plain": [
       "\u001b[33mWARNING: Neither CUDA nor MPS are available - defaulting to CPU. Note: This module is much faster with a GPU.\u001b[0m\u001b[33m\n",
       "\u001b[0m"
      ]
     },
     "metadata": {},
     "output_type": "display_data"
    },
    {
     "data": {
      "text/html": [
       "<pre style=\"white-space:pre;overflow-x:auto;line-height:normal;font-family:Menlo,'DejaVu Sans Mono',consolas,'Courier New',monospace\"><span style=\"color: #808000; text-decoration-color: #808000\">WARNING: Neither CUDA nor MPS are available - defaulting to CPU. Note: This module is much faster with a GPU.\n",
       "</span></pre>\n"
      ],
      "text/plain": [
       "\u001b[33mWARNING: Neither CUDA nor MPS are available - defaulting to CPU. Note: This module is much faster with a GPU.\u001b[0m\u001b[33m\n",
       "\u001b[0m"
      ]
     },
     "metadata": {},
     "output_type": "display_data"
    },
    {
     "data": {
      "text/html": [
       "<pre style=\"white-space:pre;overflow-x:auto;line-height:normal;font-family:Menlo,'DejaVu Sans Mono',consolas,'Courier New',monospace\"><span style=\"color: #808000; text-decoration-color: #808000\">WARNING: Neither CUDA nor MPS are available - defaulting to CPU. Note: This module is much faster with a GPU.\n",
       "</span></pre>\n"
      ],
      "text/plain": [
       "\u001b[33mWARNING: Neither CUDA nor MPS are available - defaulting to CPU. Note: This module is much faster with a GPU.\u001b[0m\u001b[33m\n",
       "\u001b[0m"
      ]
     },
     "metadata": {},
     "output_type": "display_data"
    },
    {
     "data": {
      "text/html": [
       "<pre style=\"white-space:pre;overflow-x:auto;line-height:normal;font-family:Menlo,'DejaVu Sans Mono',consolas,'Courier New',monospace\"><span style=\"color: #808000; text-decoration-color: #808000\">WARNING: Neither CUDA nor MPS are available - defaulting to CPU. Note: This module is much faster with a GPU.\n",
       "</span></pre>\n"
      ],
      "text/plain": [
       "\u001b[33mWARNING: Neither CUDA nor MPS are available - defaulting to CPU. Note: This module is much faster with a GPU.\u001b[0m\u001b[33m\n",
       "\u001b[0m"
      ]
     },
     "metadata": {},
     "output_type": "display_data"
    },
    {
     "data": {
      "text/html": [
       "<pre style=\"white-space:pre;overflow-x:auto;line-height:normal;font-family:Menlo,'DejaVu Sans Mono',consolas,'Courier New',monospace\"><span style=\"color: #808000; text-decoration-color: #808000\">WARNING: Neither CUDA nor MPS are available - defaulting to CPU. Note: This module is much faster with a GPU.\n",
       "</span></pre>\n"
      ],
      "text/plain": [
       "\u001b[33mWARNING: Neither CUDA nor MPS are available - defaulting to CPU. Note: This module is much faster with a GPU.\u001b[0m\u001b[33m\n",
       "\u001b[0m"
      ]
     },
     "metadata": {},
     "output_type": "display_data"
    },
    {
     "data": {
      "text/html": [
       "<pre style=\"white-space:pre;overflow-x:auto;line-height:normal;font-family:Menlo,'DejaVu Sans Mono',consolas,'Courier New',monospace\"><span style=\"color: #808000; text-decoration-color: #808000\">WARNING: Neither CUDA nor MPS are available - defaulting to CPU. Note: This module is much faster with a GPU.\n",
       "</span></pre>\n"
      ],
      "text/plain": [
       "\u001b[33mWARNING: Neither CUDA nor MPS are available - defaulting to CPU. Note: This module is much faster with a GPU.\u001b[0m\u001b[33m\n",
       "\u001b[0m"
      ]
     },
     "metadata": {},
     "output_type": "display_data"
    },
    {
     "data": {
      "text/html": [
       "<pre style=\"white-space:pre;overflow-x:auto;line-height:normal;font-family:Menlo,'DejaVu Sans Mono',consolas,'Courier New',monospace\"><span style=\"color: #808000; text-decoration-color: #808000\">WARNING: Neither CUDA nor MPS are available - defaulting to CPU. Note: This module is much faster with a GPU.\n",
       "</span></pre>\n"
      ],
      "text/plain": [
       "\u001b[33mWARNING: Neither CUDA nor MPS are available - defaulting to CPU. Note: This module is much faster with a GPU.\u001b[0m\u001b[33m\n",
       "\u001b[0m"
      ]
     },
     "metadata": {},
     "output_type": "display_data"
    },
    {
     "data": {
      "text/html": [
       "<pre style=\"white-space:pre;overflow-x:auto;line-height:normal;font-family:Menlo,'DejaVu Sans Mono',consolas,'Courier New',monospace\"><span style=\"color: #808000; text-decoration-color: #808000\">WARNING: Neither CUDA nor MPS are available - defaulting to CPU. Note: This module is much faster with a GPU.\n",
       "</span></pre>\n"
      ],
      "text/plain": [
       "\u001b[33mWARNING: Neither CUDA nor MPS are available - defaulting to CPU. Note: This module is much faster with a GPU.\u001b[0m\u001b[33m\n",
       "\u001b[0m"
      ]
     },
     "metadata": {},
     "output_type": "display_data"
    },
    {
     "data": {
      "text/html": [
       "<pre style=\"white-space:pre;overflow-x:auto;line-height:normal;font-family:Menlo,'DejaVu Sans Mono',consolas,'Courier New',monospace\"><span style=\"color: #808000; text-decoration-color: #808000\">WARNING: Neither CUDA nor MPS are available - defaulting to CPU. Note: This module is much faster with a GPU.\n",
       "</span></pre>\n"
      ],
      "text/plain": [
       "\u001b[33mWARNING: Neither CUDA nor MPS are available - defaulting to CPU. Note: This module is much faster with a GPU.\u001b[0m\u001b[33m\n",
       "\u001b[0m"
      ]
     },
     "metadata": {},
     "output_type": "display_data"
    },
    {
     "data": {
      "text/html": [
       "<pre style=\"white-space:pre;overflow-x:auto;line-height:normal;font-family:Menlo,'DejaVu Sans Mono',consolas,'Courier New',monospace\"><span style=\"color: #808000; text-decoration-color: #808000\">WARNING: Neither CUDA nor MPS are available - defaulting to CPU. Note: This module is much faster with a GPU.\n",
       "</span></pre>\n"
      ],
      "text/plain": [
       "\u001b[33mWARNING: Neither CUDA nor MPS are available - defaulting to CPU. Note: This module is much faster with a GPU.\u001b[0m\u001b[33m\n",
       "\u001b[0m"
      ]
     },
     "metadata": {},
     "output_type": "display_data"
    },
    {
     "data": {
      "text/html": [
       "<pre style=\"white-space:pre;overflow-x:auto;line-height:normal;font-family:Menlo,'DejaVu Sans Mono',consolas,'Courier New',monospace\"><span style=\"color: #808000; text-decoration-color: #808000\">WARNING: Neither CUDA nor MPS are available - defaulting to CPU. Note: This module is much faster with a GPU.\n",
       "</span></pre>\n"
      ],
      "text/plain": [
       "\u001b[33mWARNING: Neither CUDA nor MPS are available - defaulting to CPU. Note: This module is much faster with a GPU.\u001b[0m\u001b[33m\n",
       "\u001b[0m"
      ]
     },
     "metadata": {},
     "output_type": "display_data"
    }
   ],
   "source": [
    "for index, row in zillow_df.iterrows():\n",
    "    query_url = row['query_url']\n",
    "\n",
    "    login_and_scroll_screenshot(username=username, password=password, query_url=query_url)\n",
    "\n",
    "    extracted_text = crop_and_extract_text(crop_coordinates)\n",
    "\n",
    "    zillow_df.at[index, 'extracted_cost'] = extracted_text"
   ]
  },
  {
   "cell_type": "code",
   "execution_count": 72,
   "metadata": {},
   "outputs": [],
   "source": [
    "zillow_df['pa_cost'] = zillow_df['extracted_cost'].apply(lambda x: round(float(x.replace(\"S\", \"\").replace(\"K\", \"\").strip()), 2) if x else None)"
   ]
  },
  {
   "cell_type": "code",
   "execution_count": 73,
   "metadata": {},
   "outputs": [],
   "source": [
    "zillow_df['pa_cost'] = zillow_df['pa_cost'] * 1000"
   ]
  },
  {
   "cell_type": "code",
   "execution_count": 75,
   "metadata": {},
   "outputs": [],
   "source": [
    "zillow_df.to_csv('zillow_df.csv')"
   ]
  }
 ],
 "metadata": {
  "kernelspec": {
   "display_name": "Python 3",
   "language": "python",
   "name": "python3"
  },
  "language_info": {
   "codemirror_mode": {
    "name": "ipython",
    "version": 3
   },
   "file_extension": ".py",
   "mimetype": "text/x-python",
   "name": "python",
   "nbconvert_exporter": "python",
   "pygments_lexer": "ipython3",
   "version": "3.11.9"
  }
 },
 "nbformat": 4,
 "nbformat_minor": 2
}
